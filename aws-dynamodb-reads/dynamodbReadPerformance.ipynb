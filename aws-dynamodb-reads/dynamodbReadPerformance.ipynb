{
 "cells": [
  {
   "cell_type": "markdown",
   "metadata": {},
   "source": [
    "<img src=\"lalogonavy.png\">"
   ]
  },
  {
   "cell_type": "markdown",
   "metadata": {},
   "source": [
    "\n",
    "___"
   ]
  },
  {
   "cell_type": "markdown",
   "metadata": {},
   "source": [
    "<img src=\"DynamoDBReadPerformance.png\">"
   ]
  },
  {
   "cell_type": "markdown",
   "metadata": {},
   "source": [
    "### Install dependencies:"
   ]
  },
  {
   "cell_type": "code",
   "execution_count": null,
   "metadata": {
    "scrolled": true
   },
   "outputs": [],
   "source": [
    "!pip install boto3 cython PyHamcrest"
   ]
  },
  {
   "cell_type": "markdown",
   "metadata": {},
   "source": [
    "### Import dependencies, create a table, load some data"
   ]
  },
  {
   "cell_type": "code",
   "execution_count": null,
   "metadata": {},
   "outputs": [],
   "source": [
    "from __future__ import print_function # Python 2/3 compatibility\n",
    "import boto3\n",
    "import json\n",
    "import decimal\n",
    "import sys\n",
    "import random\n",
    "from time import sleep\n",
    "from boto3.dynamodb.conditions import Key, Attr\n",
    "\n",
    "\n",
    "dynamodb = boto3.resource('dynamodb',  region_name='us-east-1')\n",
    "\n",
    "\n",
    "table = dynamodb.create_table(\n",
    "        TableName= 'movies',\n",
    "        KeySchema=[\n",
    "            {\n",
    "                'KeyType': 'HASH',\n",
    "                'AttributeName': 'year'\n",
    "            },\n",
    "            {\n",
    "                'KeyType': 'RANGE',\n",
    "                'AttributeName': 'title'\n",
    "            }\n",
    "        ],\n",
    "        AttributeDefinitions=[\n",
    "            {\n",
    "                'AttributeName': 'year',\n",
    "                'AttributeType': 'N'\n",
    "            },\n",
    "            {\n",
    "                'AttributeName': 'title',\n",
    "                'AttributeType': 'S'\n",
    "            }           \n",
    "        ],\n",
    "        ProvisionedThroughput={\n",
    "            'ReadCapacityUnits': 2,\n",
    "            'WriteCapacityUnits': 2\n",
    "        }\n",
    "    )\n",
    "# Wait until the table exists.\n",
    "table.meta.client.get_waiter('table_exists').wait(TableName='movies')\n",
    "print('Table is ready, please continue as instructed.')"
   ]
  },
  {
   "cell_type": "markdown",
   "metadata": {},
   "source": [
    "### Let's upload some data:"
   ]
  },
  {
   "cell_type": "code",
   "execution_count": null,
   "metadata": {},
   "outputs": [],
   "source": [
    "dynamodb = boto3.resource('dynamodb',  region_name='us-east-1')\n",
    "table = dynamodb.Table('movies')\n",
    "\n",
    "choices = ['yes', 'no']\n",
    "i = 0\n",
    "with open(\"moviedata.json\") as json_file:\n",
    "    with table.batch_writer() as batch:\n",
    "        movies = json.load(json_file, parse_float = decimal.Decimal)\n",
    "        for movie in movies:\n",
    "            i = i + 1\n",
    "            if i == 101:\n",
    "                break\n",
    "            year = int(movie['year'])\n",
    "            title = movie['title']\n",
    "            star = movie['actors'][0]\n",
    "            rating = movie['rating']\n",
    "            running_time = movie['running_time_secs']\n",
    "            uploaded = random.choice(choices)\n",
    "\n",
    "            print(\"Adding movie:\", year, title, star, rating, running_time, uploaded)\n",
    "\n",
    "            batch.put_item(\n",
    "               Item={\n",
    "                   'year': year, # add a +1 to this the second time around.\n",
    "                   'title': title,\n",
    "                   'actor': star,\n",
    "                   'rating': rating,\n",
    "                   'running_time': running_time,\n",
    "                   'uploaded' : uploaded\n",
    "                }\n",
    "            )\n"
   ]
  },
  {
   "cell_type": "markdown",
   "metadata": {},
   "source": [
    "### Now, let's perform some queries:"
   ]
  },
  {
   "cell_type": "markdown",
   "metadata": {},
   "source": [
    "##### First, we'll perform a scan of our table:"
   ]
  },
  {
   "cell_type": "code",
   "execution_count": null,
   "metadata": {},
   "outputs": [],
   "source": [
    "import pprint\n",
    "\n",
    "dynamodb = boto3.resource('dynamodb',  region_name='us-east-1', )\n",
    "table = dynamodb.Table('movies')\n",
    "\n",
    "response = table.scan(\n",
    "    ReturnConsumedCapacity='TOTAL', \n",
    "    ConsistentRead=True  # Also try with Consistent Reads\n",
    ")\n",
    "\n",
    "total_consumed_read_capacity = response['ConsumedCapacity']\n",
    "print(total_consumed_read_capacity)"
   ]
  },
  {
   "cell_type": "markdown",
   "metadata": {},
   "source": [
    "##### Now, let's do a query that uses the entire primary key"
   ]
  },
  {
   "cell_type": "code",
   "execution_count": null,
   "metadata": {},
   "outputs": [],
   "source": [
    "import pprint\n",
    "\n",
    "dynamodb = boto3.resource('dynamodb',  region_name='us-east-1', )\n",
    "table = dynamodb.Table('movies')\n",
    "\n",
    "response = table.query(\n",
    "    ReturnConsumedCapacity='TOTAL', \n",
    "    KeyConditionExpression=Key('year').eq(2011) & Key('title').eq('Byzantium')\n",
    ")\n",
    "\n",
    "\n",
    "total_consumed_read_capacity = response['ConsumedCapacity']\n",
    "print(total_consumed_read_capacity)"
   ]
  },
  {
   "cell_type": "markdown",
   "metadata": {},
   "source": [
    "___\n",
    "# All Finished! Awesome job!"
   ]
  }
 ],
 "metadata": {
  "kernelspec": {
   "display_name": "Python 3",
   "language": "python",
   "name": "python3"
  },
  "language_info": {
   "codemirror_mode": {
    "name": "ipython",
    "version": 3
   },
   "file_extension": ".py",
   "mimetype": "text/x-python",
   "name": "python",
   "nbconvert_exporter": "python",
   "pygments_lexer": "ipython3",
   "version": "3.7.1"
  }
 },
 "nbformat": 4,
 "nbformat_minor": 2
}
