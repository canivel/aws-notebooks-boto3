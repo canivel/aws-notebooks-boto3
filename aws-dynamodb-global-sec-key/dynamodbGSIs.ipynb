{
 "cells": [
  {
   "cell_type": "markdown",
   "metadata": {
    "slideshow": {
     "slide_type": "-"
    }
   },
   "source": [
    "<img src=\"lalogonavy.png\">"
   ]
  },
  {
   "cell_type": "markdown",
   "metadata": {
    "slideshow": {
     "slide_type": "-"
    }
   },
   "source": [
    "\n",
    "___"
   ]
  },
  {
   "cell_type": "markdown",
   "metadata": {
    "slideshow": {
     "slide_type": "-"
    }
   },
   "source": [
    "<img src=\"DynamoDBGSIs.png\">"
   ]
  },
  {
   "cell_type": "markdown",
   "metadata": {
    "slideshow": {
     "slide_type": "-"
    }
   },
   "source": [
    "### First, we need to install a few dependencies:"
   ]
  },
  {
   "cell_type": "code",
   "execution_count": null,
   "metadata": {
    "slideshow": {
     "slide_type": "-"
    }
   },
   "outputs": [],
   "source": [
    "!pip install boto3 cython PyHamcrest "
   ]
  },
  {
   "cell_type": "markdown",
   "metadata": {},
   "source": [
    "### Now, we have to perform some imports:"
   ]
  },
  {
   "cell_type": "code",
   "execution_count": null,
   "metadata": {},
   "outputs": [],
   "source": [
    "from __future__ import print_function # Python 2/3 compatibility\n",
    "import boto3\n",
    "import json\n",
    "import decimal\n",
    "import sys\n",
    "import random\n",
    "import pandas as pd\n",
    "from time import sleep"
   ]
  },
  {
   "cell_type": "markdown",
   "metadata": {},
   "source": [
    "### Let's create our 'Movies' table and upload our moviedata.json dataset:"
   ]
  },
  {
   "cell_type": "code",
   "execution_count": null,
   "metadata": {},
   "outputs": [],
   "source": [
    "dynamodb = boto3.resource('dynamodb',  region_name='us-east-1')\n",
    "\n",
    "\n",
    "table = dynamodb.create_table(\n",
    "   TableName='Movies',\n",
    "   KeySchema=[\n",
    "       {\n",
    "           'AttributeName': 'year',\n",
    "           'KeyType': 'HASH'  #Partition key\n",
    "       },\n",
    "       {\n",
    "           'AttributeName': 'title',\n",
    "           'KeyType': 'RANGE'  #Sort key\n",
    "       }\n",
    "   ],\n",
    "   AttributeDefinitions=[\n",
    "       {\n",
    "           'AttributeName': 'year',\n",
    "           'AttributeType': 'N'\n",
    "       },\n",
    "       {\n",
    "           'AttributeName': 'title',\n",
    "           'AttributeType': 'S'\n",
    "       },\n",
    "\n",
    "   ],\n",
    "   ProvisionedThroughput={\n",
    "       'ReadCapacityUnits': 2,\n",
    "       'WriteCapacityUnits': 2\n",
    "   }\n",
    ")\n",
    "\n",
    "# Wait until the table exists.\n",
    "table.meta.client.get_waiter('table_exists').wait(TableName='Movies')\n",
    "print('Table is ready, please continue as instructed.')"
   ]
  },
  {
   "cell_type": "markdown",
   "metadata": {},
   "source": [
    "### Let's upload our data:"
   ]
  },
  {
   "cell_type": "code",
   "execution_count": null,
   "metadata": {},
   "outputs": [],
   "source": [
    "dynamodb = boto3.resource('dynamodb',  region_name='us-east-1')\n",
    "table = dynamodb.Table('Movies')\n",
    "\n",
    "choices = ['yes', 'no']\n",
    "i = 0\n",
    "with open(\"moviedata.json\") as json_file:\n",
    "    with table.batch_writer() as batch:\n",
    "        movies = json.load(json_file, parse_float = decimal.Decimal)\n",
    "        for movie in movies:\n",
    "            i = i + 1\n",
    "            if i == 101:\n",
    "                break\n",
    "            year = int(movie['year'])\n",
    "            title = movie['title']\n",
    "            star = movie['actors'][0]\n",
    "            rating = movie['rating']\n",
    "            running_time = movie['running_time_secs']\n",
    "            uploaded = random.choice(choices)\n",
    "\n",
    "            print(\"Adding movie:\", year, title, star, rating, running_time, uploaded)\n",
    "\n",
    "            batch.put_item(\n",
    "               Item={\n",
    "                   'year': year,\n",
    "                   'title': title,\n",
    "                   'actor': star,\n",
    "                   'rating': rating,\n",
    "                   'running_time': running_time,\n",
    "                   'uploaded' : uploaded\n",
    "                }\n",
    "            )\n"
   ]
  },
  {
   "cell_type": "markdown",
   "metadata": {},
   "source": [
    "### Let's perform some queries:"
   ]
  },
  {
   "cell_type": "markdown",
   "metadata": {},
   "source": [
    "##### First, we'll perform a scan of our table and display the first 5 items:"
   ]
  },
  {
   "cell_type": "code",
   "execution_count": null,
   "metadata": {},
   "outputs": [],
   "source": [
    "dynamodb = boto3.resource('dynamodb',  region_name='us-east-1', )\n",
    "table = dynamodb.Table('Movies')\n",
    "\n",
    "response = table.scan()\n",
    "\n",
    "item_list = []\n",
    "for i in response['Items']:\n",
    "    item = {'year':i['year'], \n",
    "            'title':i['title'], \n",
    "            'actor' :i['actor'], \n",
    "            'rating' :i['rating'], \n",
    "            'running_time' :i['running_time'], \n",
    "            'uploaded' :i['uploaded']}\n",
    "    item_list.append(item)\n",
    "df = pd.DataFrame(data=item_list)\n",
    "df.head()"
   ]
  },
  {
   "cell_type": "markdown",
   "metadata": {},
   "source": [
    "##### Now, let's perform a query for all movies that start with 'T' released in 2013:"
   ]
  },
  {
   "cell_type": "code",
   "execution_count": null,
   "metadata": {},
   "outputs": [],
   "source": [
    "from boto3.dynamodb.conditions import Key, Attr\n",
    "\n",
    "dynamodb = boto3.resource('dynamodb',  region_name='us-east-1')\n",
    "table = dynamodb.Table('Movies')\n",
    "\n",
    "response = table.query(\n",
    "    KeyConditionExpression=Key('year').eq(2013) & Key('title').begins_with('T')\n",
    ")\n",
    "\n",
    "item_list = []\n",
    "for i in response['Items']:\n",
    "    item = {'year':i['year'], 'title':i['title'], 'actor' :i['actor']}\n",
    "    item_list.append(item)\n",
    "df = pd.DataFrame(data=item_list)\n",
    "df"
   ]
  },
  {
   "cell_type": "markdown",
   "metadata": {},
   "source": [
    "### Now, we need to create a Global Secondary Index"
   ]
  },
  {
   "cell_type": "code",
   "execution_count": null,
   "metadata": {},
   "outputs": [],
   "source": [
    "dynamodb = boto3.resource('dynamodb',  region_name='us-east-1')\n",
    "table = dynamodb.Table('Movies')\n",
    "table.update(\n",
    "    AttributeDefinitions = [\n",
    "        {\n",
    "            \"AttributeName\": \"uploaded\", \"AttributeType\": 'S'\n",
    "        },\n",
    "        {\n",
    "            \"AttributeName\": \"rating\", \"AttributeType\": 'N'\n",
    "        }\n",
    "    ],\n",
    "    GlobalSecondaryIndexUpdates=[\n",
    "        {\n",
    "            'Create': {\n",
    "                'IndexName': 'rating-title-index',\n",
    "                'KeySchema': [\n",
    "                    {\n",
    "                        'AttributeName': 'uploaded',\n",
    "                        'KeyType': 'HASH'\n",
    "                    },\n",
    "                    {\n",
    "                        'AttributeName': 'rating',\n",
    "                        'KeyType': 'RANGE'\n",
    "                    }\n",
    "                ],\n",
    "                'Projection': {\n",
    "                    'ProjectionType': 'ALL'\n",
    "                },\n",
    "                'ProvisionedThroughput': {\n",
    "                    'ReadCapacityUnits': 2,\n",
    "                    'WriteCapacityUnits': 2\n",
    "                }\n",
    "            }\n",
    "        }\n",
    "    ]\n",
    ")"
   ]
  },
  {
   "cell_type": "markdown",
   "metadata": {},
   "source": [
    "### Finally, let's find all movies that haven't been uploaded with a rating above 7:"
   ]
  },
  {
   "cell_type": "code",
   "execution_count": null,
   "metadata": {},
   "outputs": [],
   "source": [
    "dynamodb = boto3.resource('dynamodb',  region_name='us-east-1')\n",
    "table = dynamodb.Table('Movies')\n",
    "\n",
    "response = table.query(\n",
    "    IndexName='rating-title-index',\n",
    "    KeyConditionExpression=Key('uploaded').eq('no') & Key('rating').gte(7)\n",
    ")\n",
    "\n",
    "item_list = []\n",
    "for i in response['Items']:\n",
    "    item = {'uploaded':i['uploaded'], 'title':i['title'], 'rating' :i['rating']}\n",
    "    item_list.append(item)\n",
    "df = pd.DataFrame(data=item_list)\n",
    "df"
   ]
  },
  {
   "cell_type": "markdown",
   "metadata": {},
   "source": [
    "___\n",
    "# All Finished! Awesome job!"
   ]
  }
 ],
 "metadata": {
  "kernelspec": {
   "display_name": "Python 3",
   "language": "python",
   "name": "python3"
  },
  "language_info": {
   "codemirror_mode": {
    "name": "ipython",
    "version": 3
   },
   "file_extension": ".py",
   "mimetype": "text/x-python",
   "name": "python",
   "nbconvert_exporter": "python",
   "pygments_lexer": "ipython3",
   "version": "3.7.1"
  }
 },
 "nbformat": 4,
 "nbformat_minor": 2
}
