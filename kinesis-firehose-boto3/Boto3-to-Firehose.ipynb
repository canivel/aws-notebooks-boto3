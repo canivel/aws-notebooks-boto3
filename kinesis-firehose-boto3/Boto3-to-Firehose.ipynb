{
 "cells": [
  {
   "cell_type": "code",
   "execution_count": null,
   "metadata": {},
   "outputs": [],
   "source": [
    "import boto3\n",
    "from faker import Faker\n",
    "import random\n",
    "import time\n",
    "import json\n",
    "\n",
    "DeliveryStreamName = \"linuxacademy-courses\"\n",
    "\n",
    "client = boto3.client('firehose')\n",
    "\n",
    "fake = Faker()\n",
    "\n",
    "courses = [\"Courses names\", \"Courses names2\", \"Courses names3\"]\n",
    "\n",
    "record = {}\n",
    "\n",
    "while True:\n",
    "    record['user'] = fake.name()\n",
    "    record['course'] = random.choice(courses)\n",
    "    record['video'] = random.randint(1, 10)\n",
    "    record['timestamp'] = time.time()\n",
    "    response = client.put_record(\n",
    "        DeliveryStreamName=DeliveryStreamName,\n",
    "        Record = {\n",
    "            'Data': json.dumps(record)\n",
    "        }\n",
    "    )\n",
    "    print('Putting record to Kinesis: \\n' + str(record))\n",
    "    "
   ]
  }
 ],
 "metadata": {
  "kernelspec": {
   "display_name": "Python 3",
   "language": "python",
   "name": "python3"
  },
  "language_info": {
   "codemirror_mode": {
    "name": "ipython",
    "version": 3
   },
   "file_extension": ".py",
   "mimetype": "text/x-python",
   "name": "python",
   "nbconvert_exporter": "python",
   "pygments_lexer": "ipython3",
   "version": "3.6.6"
  }
 },
 "nbformat": 4,
 "nbformat_minor": 2
}
